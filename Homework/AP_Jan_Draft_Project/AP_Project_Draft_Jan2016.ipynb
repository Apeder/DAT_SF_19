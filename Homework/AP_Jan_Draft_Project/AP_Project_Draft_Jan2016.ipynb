{
 "cells": [
  {
   "cell_type": "code",
   "execution_count": 1,
   "metadata": {
    "collapsed": false
   },
   "outputs": [],
   "source": [
    "import psycopg2\n",
    "import psycopg2.extras\n",
    "import pandas as pd\n",
    "\n",
    "# Retrieve the table names as a list\n",
    "def get_tables():\n",
    "    conn_string = \"\" # Removed for security\n",
    "    conn = psycopg2.connect(conn_string)\n",
    "    cursor = conn.cursor('Jefferson_Query', cursor_factory=psycopg2.extras.DictCursor)\n",
    "    cursor.execute(\"SELECT table_name FROM information_schema.tables WHERE table_schema='public'AND table_type='BASE TABLE';\")\n",
    "    table_names = cursor.fetchall()\n",
    "    table_names = [item[0] for item in table_names]\n",
    "    conn.close()\n",
    "    return table_names"
   ]
  },
  {
   "cell_type": "code",
   "execution_count": 2,
   "metadata": {
    "collapsed": false
   },
   "outputs": [],
   "source": [
    "# Retrieve tables' column names as a list\n",
    "def get_names(table_name):\n",
    "    conn_string = \"\"\n",
    "    conn = psycopg2.connect(conn_string)\n",
    "    cursor = conn.cursor('Jefferson_Query', cursor_factory=psycopg2.extras.DictCursor)\n",
    "    cursor.execute((\"SELECT column_name FROM information_schema.columns WHERE table_name='%s';\") % (table_name))\n",
    "    names = cursor.fetchall()\n",
    "    names = [item[0] for item in names]\n",
    "    conn.close()\n",
    "    return names"
   ]
  },
  {
   "cell_type": "code",
   "execution_count": 14,
   "metadata": {
    "collapsed": false,
    "scrolled": true
   },
   "outputs": [
    {
     "name": "stdout",
     "output_type": "stream",
     "text": [
      "{'fec_reports': ['zip', 'rows'], 'live_forms': ['id', 'record', 'recordHash', 'createdAt', 'updatedAt'], 'users': ['id', 'createdAt', 'updatedAt', 'email', 'password', 'name', 'loginToken', 'passwordResetToken', 'lastLogin', 'loginTokenExpires', 'settings', 'following'], 'forms_expenditures_locations': ['formId', 'addressType', 'state', 'city', 'street1', 'street2', 'zipCode', 'latLng', 'hash'], 'SequelizeMeta': ['name'], 'live_forms_lookup': ['fecId', 'fecFile', 'formType', 'office', 'state', 'district', 'formId', 'amended'], 'forms': ['id', 'record', 'recordHash', 'createdAt', 'updatedAt'], 'amended_filings': ['amended', 'fecFile', 'processed'], 'user_feeds': ['userId', 'feedId'], 'feeds': ['rule', 'hashId', 'createdAt', 'updatedAt', 'id'], 'forms_expenditures': ['formId', 'fecId', 'fecFile', 'formType', 'amount', 'date', 'office', 'state', 'district', 'vendor', 'amended'], 'committees': ['fecId', 'name', 'lastActivity'], 'zipcodes': ['zip', 'city', 'state', 'latitude', 'longitude']}\n",
      "--- 8.38170099258 seconds ---\n"
     ]
    }
   ],
   "source": [
    "import time\n",
    "start_time = time.time()\n",
    "\n",
    "# Combine list of tables with list of column names to create a dictionary\n",
    "table_names = pd.Series(get_tables())\n",
    "all_names = [get_names(i) for i in table_names]\n",
    "\n",
    "keys = table_names\n",
    "values = all_names\n",
    "\n",
    "table_dict = dict(zip(keys, values))\n",
    "print table_dict\n",
    "\n",
    "print(\"--- %s seconds ---\" % (time.time() - start_time))\n",
    "\n",
    "with open('DB_Tables_Dictionary.txt', 'w') as f:\n",
    "    f.writelines('{}:{}\\n'.format(k,v) for k, v in table_dict.items())"
   ]
  },
  {
   "cell_type": "code",
   "execution_count": 17,
   "metadata": {
    "collapsed": false
   },
   "outputs": [
    {
     "name": "stdout",
     "output_type": "stream",
     "text": [
      "fec_reports:['zip', 'rows']\n",
      "live_forms:['id', 'record', 'recordHash', 'createdAt', 'updatedAt']\n",
      "users:['id', 'createdAt', 'updatedAt', 'email', 'password', 'name', 'loginToken', 'passwordResetToken', 'lastLogin', 'loginTokenExpires', 'settings', 'following']\n",
      "forms_expenditures_locations:['formId', 'addressType', 'state', 'city', 'street1', 'street2', 'zipCode', 'latLng', 'hash']\n",
      "SequelizeMeta:['name']\n",
      "live_forms_lookup:['fecId', 'fecFile', 'formType', 'office', 'state', 'district', 'formId', 'amended']\n",
      "forms:['id', 'record', 'recordHash', 'createdAt', 'updatedAt']\n",
      "amended_filings:['amended', 'fecFile', 'processed']\n",
      "user_feeds:['userId', 'feedId']\n",
      "feeds:['rule', 'hashId', 'createdAt', 'updatedAt', 'id']\n",
      "forms_expenditures:['formId', 'fecId', 'fecFile', 'formType', 'amount', 'date', 'office', 'state', 'district', 'vendor', 'amended']\n",
      "committees:['fecId', 'name', 'lastActivity']\n",
      "zipcodes:['zip', 'city', 'state', 'latitude', 'longitude']\n",
      "\n"
     ]
    }
   ],
   "source": [
    "T_Dict = open('DB_Tables_Dictionary.txt', 'r')\n",
    "\n",
    "print T_Dict.read()"
   ]
  },
  {
   "cell_type": "code",
   "execution_count": 4,
   "metadata": {
    "collapsed": false
   },
   "outputs": [],
   "source": [
    "# Sample n records specified by 'num_rec' from the head of the database named 'db_name' \n",
    "def Samp(db_name, num_rec):\n",
    "    conn_string = \"\"\n",
    "    conn = psycopg2.connect(conn_string)\n",
    "    cursor = conn.cursor()\n",
    "    ex = \"SELECT * FROM %s LIMIT %i;\" % (db_name, num_rec)\n",
    "    cursor.execute(ex) \n",
    "    x = cursor.fetchall()\n",
    "    conn.close()\n",
    "    dic = '%s' % (db_name)\n",
    "    a = pd.DataFrame(x, columns=table_dict[dic])\n",
    "    return a"
   ]
  },
  {
   "cell_type": "code",
   "execution_count": 25,
   "metadata": {
    "collapsed": false,
    "scrolled": false
   },
   "outputs": [
    {
     "data": {
      "text/html": [
       "<div>\n",
       "<table border=\"1\" class=\"dataframe\">\n",
       "  <thead>\n",
       "    <tr style=\"text-align: right;\">\n",
       "      <th></th>\n",
       "      <th>Unnamed: 0</th>\n",
       "      <th>formId</th>\n",
       "      <th>fecId</th>\n",
       "      <th>fecFile</th>\n",
       "      <th>formType</th>\n",
       "      <th>amount</th>\n",
       "      <th>date</th>\n",
       "      <th>office</th>\n",
       "      <th>state</th>\n",
       "      <th>district</th>\n",
       "      <th>vendor</th>\n",
       "      <th>amended</th>\n",
       "    </tr>\n",
       "  </thead>\n",
       "  <tbody>\n",
       "    <tr>\n",
       "      <th>0</th>\n",
       "      <td>0</td>\n",
       "      <td>511294799</td>\n",
       "      <td>C90011156</td>\n",
       "      <td>949872</td>\n",
       "      <td>F57</td>\n",
       "      <td>46.50</td>\n",
       "      <td>2014-09-03</td>\n",
       "      <td>S</td>\n",
       "      <td>IA</td>\n",
       "      <td>0</td>\n",
       "      <td>Residence inn des Moines Downtown</td>\n",
       "      <td>False</td>\n",
       "    </tr>\n",
       "    <tr>\n",
       "      <th>1</th>\n",
       "      <td>1</td>\n",
       "      <td>511294800</td>\n",
       "      <td>C90011156</td>\n",
       "      <td>949872</td>\n",
       "      <td>F57</td>\n",
       "      <td>55.86</td>\n",
       "      <td>2014-09-03</td>\n",
       "      <td>S</td>\n",
       "      <td>KY</td>\n",
       "      <td>0</td>\n",
       "      <td>Kevin Robbins</td>\n",
       "      <td>False</td>\n",
       "    </tr>\n",
       "    <tr>\n",
       "      <th>2</th>\n",
       "      <td>2</td>\n",
       "      <td>511294801</td>\n",
       "      <td>C90011156</td>\n",
       "      <td>949872</td>\n",
       "      <td>F57</td>\n",
       "      <td>12.50</td>\n",
       "      <td>2014-09-03</td>\n",
       "      <td>S</td>\n",
       "      <td>AK</td>\n",
       "      <td>0</td>\n",
       "      <td>Robert Gruss</td>\n",
       "      <td>False</td>\n",
       "    </tr>\n",
       "    <tr>\n",
       "      <th>3</th>\n",
       "      <td>3</td>\n",
       "      <td>511294802</td>\n",
       "      <td>C90011156</td>\n",
       "      <td>949872</td>\n",
       "      <td>F57</td>\n",
       "      <td>55.86</td>\n",
       "      <td>2014-09-03</td>\n",
       "      <td>S</td>\n",
       "      <td>MI</td>\n",
       "      <td>0</td>\n",
       "      <td>Ronald  Cole</td>\n",
       "      <td>False</td>\n",
       "    </tr>\n",
       "    <tr>\n",
       "      <th>4</th>\n",
       "      <td>4</td>\n",
       "      <td>511294803</td>\n",
       "      <td>C90011156</td>\n",
       "      <td>949872</td>\n",
       "      <td>F57</td>\n",
       "      <td>55.86</td>\n",
       "      <td>2014-09-03</td>\n",
       "      <td>S</td>\n",
       "      <td>MI</td>\n",
       "      <td>0</td>\n",
       "      <td>Ross Harris</td>\n",
       "      <td>False</td>\n",
       "    </tr>\n",
       "  </tbody>\n",
       "</table>\n",
       "</div>"
      ],
      "text/plain": [
       "   Unnamed: 0     formId      fecId  fecFile formType  amount        date  \\\n",
       "0           0  511294799  C90011156   949872      F57   46.50  2014-09-03   \n",
       "1           1  511294800  C90011156   949872      F57   55.86  2014-09-03   \n",
       "2           2  511294801  C90011156   949872      F57   12.50  2014-09-03   \n",
       "3           3  511294802  C90011156   949872      F57   55.86  2014-09-03   \n",
       "4           4  511294803  C90011156   949872      F57   55.86  2014-09-03   \n",
       "\n",
       "  office state  district                             vendor amended  \n",
       "0      S    IA         0  Residence inn des Moines Downtown   False  \n",
       "1      S    KY         0                      Kevin Robbins   False  \n",
       "2      S    AK         0                       Robert Gruss   False  \n",
       "3      S    MI         0                       Ronald  Cole   False  \n",
       "4      S    MI         0                        Ross Harris   False  "
      ]
     },
     "execution_count": 25,
     "metadata": {},
     "output_type": "execute_result"
    }
   ],
   "source": [
    "# Examine sample records from tables that likely contain info needed for analysis\n",
    "x = Samp('forms_expenditures', 10)\n",
    "x.to_csv('./formsEX_test.csv')\n",
    "x=pd.read_csv('formsEX_test.csv')\n",
    "x.head()"
   ]
  },
  {
   "cell_type": "code",
   "execution_count": 21,
   "metadata": {
    "collapsed": false
   },
   "outputs": [
    {
     "data": {
      "text/html": [
       "<div>\n",
       "<table border=\"1\" class=\"dataframe\">\n",
       "  <thead>\n",
       "    <tr style=\"text-align: right;\">\n",
       "      <th></th>\n",
       "      <th>Unnamed: 0</th>\n",
       "      <th>fecId</th>\n",
       "      <th>name</th>\n",
       "      <th>lastActivity</th>\n",
       "    </tr>\n",
       "  </thead>\n",
       "  <tbody>\n",
       "    <tr>\n",
       "      <th>0</th>\n",
       "      <td>0</td>\n",
       "      <td>C00005462</td>\n",
       "      <td>10TH DISTRICT REPUBLICAN CONGRESSIONAL COMMITTEE</td>\n",
       "      <td>2015-12-20</td>\n",
       "    </tr>\n",
       "    <tr>\n",
       "      <th>1</th>\n",
       "      <td>1</td>\n",
       "      <td>C00344531</td>\n",
       "      <td>1199 32BJ/144 SERVICE EMPLOYEES INTERNATIONAL ...</td>\n",
       "      <td>2015-07-30</td>\n",
       "    </tr>\n",
       "    <tr>\n",
       "      <th>2</th>\n",
       "      <td>2</td>\n",
       "      <td>C00348540</td>\n",
       "      <td>1199 SERVICE EMPLOYEES INT'L UNION FEDERAL POL...</td>\n",
       "      <td>2015-07-30</td>\n",
       "    </tr>\n",
       "    <tr>\n",
       "      <th>3</th>\n",
       "      <td>3</td>\n",
       "      <td>C00538975</td>\n",
       "      <td>11TH CONGRESSIONAL DISTRICT OF VIRGINIA REPUBL...</td>\n",
       "      <td>2015-10-15</td>\n",
       "    </tr>\n",
       "    <tr>\n",
       "      <th>4</th>\n",
       "      <td>4</td>\n",
       "      <td>C00267385</td>\n",
       "      <td>11th District Democratic Committee</td>\n",
       "      <td>2015-10-13</td>\n",
       "    </tr>\n",
       "  </tbody>\n",
       "</table>\n",
       "</div>"
      ],
      "text/plain": [
       "   Unnamed: 0      fecId                                               name  \\\n",
       "0           0  C00005462   10TH DISTRICT REPUBLICAN CONGRESSIONAL COMMITTEE   \n",
       "1           1  C00344531  1199 32BJ/144 SERVICE EMPLOYEES INTERNATIONAL ...   \n",
       "2           2  C00348540  1199 SERVICE EMPLOYEES INT'L UNION FEDERAL POL...   \n",
       "3           3  C00538975  11TH CONGRESSIONAL DISTRICT OF VIRGINIA REPUBL...   \n",
       "4           4  C00267385                 11th District Democratic Committee   \n",
       "\n",
       "  lastActivity  \n",
       "0   2015-12-20  \n",
       "1   2015-07-30  \n",
       "2   2015-07-30  \n",
       "3   2015-10-15  \n",
       "4   2015-10-13  "
      ]
     },
     "execution_count": 21,
     "metadata": {},
     "output_type": "execute_result"
    }
   ],
   "source": [
    "y = Samp('committees', 10)\n",
    "y.to_csv('./Comm_test.csv')\n",
    "\n",
    "y=pd.read_csv('Comm_test.csv')\n",
    "y.head()"
   ]
  },
  {
   "cell_type": "code",
   "execution_count": 23,
   "metadata": {
    "collapsed": false
   },
   "outputs": [
    {
     "data": {
      "text/html": [
       "<div>\n",
       "<table border=\"1\" class=\"dataframe\">\n",
       "  <thead>\n",
       "    <tr style=\"text-align: right;\">\n",
       "      <th></th>\n",
       "      <th>Unnamed: 0</th>\n",
       "      <th>id</th>\n",
       "      <th>record</th>\n",
       "      <th>recordHash</th>\n",
       "      <th>createdAt</th>\n",
       "      <th>updatedAt</th>\n",
       "    </tr>\n",
       "  </thead>\n",
       "  <tbody>\n",
       "    <tr>\n",
       "      <th>0</th>\n",
       "      <td>0</td>\n",
       "      <td>414435767</td>\n",
       "      <td>{u'conduitState': None, u'committeeName': u'Ma...</td>\n",
       "      <td>326c429a657cbd32fc97d4d06ea1ffc6d1a04885cb0847...</td>\n",
       "      <td>2015-12-19 22:38:46.558000+00:00</td>\n",
       "      <td>2015-12-19 22:38:46.558000+00:00</td>\n",
       "    </tr>\n",
       "    <tr>\n",
       "      <th>1</th>\n",
       "      <td>1</td>\n",
       "      <td>414435768</td>\n",
       "      <td>{u'conduitState': None, u'committeeName': u'Ma...</td>\n",
       "      <td>76192aca2029f12a7c4e6b4cf27805a73fe39fc7bc7d1c...</td>\n",
       "      <td>2015-12-19 22:38:46.558000+00:00</td>\n",
       "      <td>2015-12-19 22:38:46.558000+00:00</td>\n",
       "    </tr>\n",
       "    <tr>\n",
       "      <th>2</th>\n",
       "      <td>2</td>\n",
       "      <td>414435769</td>\n",
       "      <td>{u'conduitState': None, u'committeeName': u'Ma...</td>\n",
       "      <td>1f26146ddb015bb07612cdd6844edc70aa3cad27427edb...</td>\n",
       "      <td>2015-12-19 22:38:46.558000+00:00</td>\n",
       "      <td>2015-12-19 22:38:46.558000+00:00</td>\n",
       "    </tr>\n",
       "    <tr>\n",
       "      <th>3</th>\n",
       "      <td>3</td>\n",
       "      <td>414435770</td>\n",
       "      <td>{u'conduitState': None, u'committeeName': u'Ma...</td>\n",
       "      <td>b99499fa74147da2ff80c04f76aead5d9bd08838ffdd0d...</td>\n",
       "      <td>2015-12-19 22:38:46.558000+00:00</td>\n",
       "      <td>2015-12-19 22:38:46.558000+00:00</td>\n",
       "    </tr>\n",
       "    <tr>\n",
       "      <th>4</th>\n",
       "      <td>4</td>\n",
       "      <td>414435771</td>\n",
       "      <td>{u'conduitState': None, u'committeeName': u'Ma...</td>\n",
       "      <td>6c2f101499562b2f0b062e02290257d2244ce2c3dc7fa4...</td>\n",
       "      <td>2015-12-19 22:38:46.558000+00:00</td>\n",
       "      <td>2015-12-19 22:38:46.558000+00:00</td>\n",
       "    </tr>\n",
       "  </tbody>\n",
       "</table>\n",
       "</div>"
      ],
      "text/plain": [
       "   Unnamed: 0         id                                             record  \\\n",
       "0           0  414435767  {u'conduitState': None, u'committeeName': u'Ma...   \n",
       "1           1  414435768  {u'conduitState': None, u'committeeName': u'Ma...   \n",
       "2           2  414435769  {u'conduitState': None, u'committeeName': u'Ma...   \n",
       "3           3  414435770  {u'conduitState': None, u'committeeName': u'Ma...   \n",
       "4           4  414435771  {u'conduitState': None, u'committeeName': u'Ma...   \n",
       "\n",
       "                                          recordHash  \\\n",
       "0  326c429a657cbd32fc97d4d06ea1ffc6d1a04885cb0847...   \n",
       "1  76192aca2029f12a7c4e6b4cf27805a73fe39fc7bc7d1c...   \n",
       "2  1f26146ddb015bb07612cdd6844edc70aa3cad27427edb...   \n",
       "3  b99499fa74147da2ff80c04f76aead5d9bd08838ffdd0d...   \n",
       "4  6c2f101499562b2f0b062e02290257d2244ce2c3dc7fa4...   \n",
       "\n",
       "                          createdAt                         updatedAt  \n",
       "0  2015-12-19 22:38:46.558000+00:00  2015-12-19 22:38:46.558000+00:00  \n",
       "1  2015-12-19 22:38:46.558000+00:00  2015-12-19 22:38:46.558000+00:00  \n",
       "2  2015-12-19 22:38:46.558000+00:00  2015-12-19 22:38:46.558000+00:00  \n",
       "3  2015-12-19 22:38:46.558000+00:00  2015-12-19 22:38:46.558000+00:00  \n",
       "4  2015-12-19 22:38:46.558000+00:00  2015-12-19 22:38:46.558000+00:00  "
      ]
     },
     "execution_count": 23,
     "metadata": {},
     "output_type": "execute_result"
    }
   ],
   "source": [
    "z = Samp('forms', 10)\n",
    "z.to_csv('./Forms_test.csv')\n",
    "\n",
    "z=pd.read_csv('Forms_test.csv')\n",
    "z.head()"
   ]
  },
  {
   "cell_type": "code",
   "execution_count": 26,
   "metadata": {
    "collapsed": false,
    "scrolled": true
   },
   "outputs": [
    {
     "name": "stdout",
     "output_type": "stream",
     "text": [
      "--- 0.769811153412 seconds ---\n"
     ]
    },
    {
     "data": {
      "text/html": [
       "<div>\n",
       "<table border=\"1\" class=\"dataframe\">\n",
       "  <thead>\n",
       "    <tr style=\"text-align: right;\">\n",
       "      <th></th>\n",
       "      <th>Unnamed: 0</th>\n",
       "      <th>amount</th>\n",
       "      <th>date</th>\n",
       "      <th>office</th>\n",
       "      <th>state</th>\n",
       "      <th>district</th>\n",
       "      <th>vendor</th>\n",
       "      <th>name</th>\n",
       "    </tr>\n",
       "  </thead>\n",
       "  <tbody>\n",
       "    <tr>\n",
       "      <th>0</th>\n",
       "      <td>0</td>\n",
       "      <td>22000.00</td>\n",
       "      <td>2012-10-22</td>\n",
       "      <td>H</td>\n",
       "      <td>CA</td>\n",
       "      <td>7</td>\n",
       "      <td>Greenberg Quinlan Rosner Research</td>\n",
       "      <td>AMERICAN MEDICAL ASSOCIATION POLITICAL ACTION ...</td>\n",
       "    </tr>\n",
       "    <tr>\n",
       "      <th>1</th>\n",
       "      <td>1</td>\n",
       "      <td>224934.64</td>\n",
       "      <td>2012-10-22</td>\n",
       "      <td>H</td>\n",
       "      <td>CA</td>\n",
       "      <td>7</td>\n",
       "      <td>Storefront Political Media</td>\n",
       "      <td>AMERICAN MEDICAL ASSOCIATION POLITICAL ACTION ...</td>\n",
       "    </tr>\n",
       "    <tr>\n",
       "      <th>2</th>\n",
       "      <td>4</td>\n",
       "      <td>9450.00</td>\n",
       "      <td>2012-09-27</td>\n",
       "      <td>H</td>\n",
       "      <td>CA</td>\n",
       "      <td>26</td>\n",
       "      <td>Great American Media</td>\n",
       "      <td>DCCC</td>\n",
       "    </tr>\n",
       "    <tr>\n",
       "      <th>3</th>\n",
       "      <td>5</td>\n",
       "      <td>302589.00</td>\n",
       "      <td>2012-09-18</td>\n",
       "      <td>H</td>\n",
       "      <td>CA</td>\n",
       "      <td>52</td>\n",
       "      <td>Great American Media</td>\n",
       "      <td>DCCC</td>\n",
       "    </tr>\n",
       "    <tr>\n",
       "      <th>4</th>\n",
       "      <td>6</td>\n",
       "      <td>10436.99</td>\n",
       "      <td>2012-09-18</td>\n",
       "      <td>H</td>\n",
       "      <td>CA</td>\n",
       "      <td>52</td>\n",
       "      <td>Great American Media</td>\n",
       "      <td>DCCC</td>\n",
       "    </tr>\n",
       "  </tbody>\n",
       "</table>\n",
       "</div>"
      ],
      "text/plain": [
       "   Unnamed: 0     amount        date office state  district  \\\n",
       "0           0   22000.00  2012-10-22      H    CA         7   \n",
       "1           1  224934.64  2012-10-22      H    CA         7   \n",
       "2           4    9450.00  2012-09-27      H    CA        26   \n",
       "3           5  302589.00  2012-09-18      H    CA        52   \n",
       "4           6   10436.99  2012-09-18      H    CA        52   \n",
       "\n",
       "                              vendor  \\\n",
       "0  Greenberg Quinlan Rosner Research   \n",
       "1         Storefront Political Media   \n",
       "2               Great American Media   \n",
       "3               Great American Media   \n",
       "4               Great American Media   \n",
       "\n",
       "                                                name  \n",
       "0  AMERICAN MEDICAL ASSOCIATION POLITICAL ACTION ...  \n",
       "1  AMERICAN MEDICAL ASSOCIATION POLITICAL ACTION ...  \n",
       "2                                               DCCC  \n",
       "3                                               DCCC  \n",
       "4                                               DCCC  "
      ]
     },
     "execution_count": 26,
     "metadata": {},
     "output_type": "execute_result"
    }
   ],
   "source": [
    "# Select a subset to experiment with different graph visualizations and prediction models\n",
    "import time\n",
    "start_time = time.time()\n",
    "\n",
    "conn_string = \"host='andy.cnopvncfrbdb.us-east-1.rds.amazonaws.com' dbname='jefferson' user='CVTesla' password='Ut93R6yaEHVEwXeM'\"\n",
    "conn = psycopg2.connect(conn_string)\n",
    "\n",
    "sql=\"\"\"\n",
    "SELECT \n",
    "    f.amount, f.date, f.office, f.state, f.district, f.vendor, c.name\n",
    "FROM \n",
    "    forms_expenditures f JOIN (SELECT DISTINCT name, \"fecId\" FROM committees) c ON (f.\"fecId\"=c.\"fecId\")\n",
    "WHERE\n",
    "    f.state = 'CA'\n",
    "\"\"\"\n",
    "\n",
    "print(\"--- %s seconds ---\" % (time.time() - start_time))\n",
    "\n",
    "CA_Test = pd.read_sql(sql, con=conn)\n",
    "conn.close()\n",
    "CA_Test = CA_Test.drop_duplicates()\n",
    "\n",
    "CA_Test.to_csv('./CA_test.csv')\n",
    "\n",
    "CA_Test=pd.read_csv('CA_test.csv')\n",
    "\n",
    "CA_Test.head()\n"
   ]
  },
  {
   "cell_type": "code",
   "execution_count": 132,
   "metadata": {
    "collapsed": false
   },
   "outputs": [
    {
     "data": {
      "text/plain": [
       "count           6165\n",
       "unique           661\n",
       "top       2012-05-17\n",
       "freq             157\n",
       "Name: date, dtype: object"
      ]
     },
     "execution_count": 132,
     "metadata": {},
     "output_type": "execute_result"
    }
   ],
   "source": [
    "%matplotlib inline\n",
    "\n",
    "CA_Test.date.describe()\n",
    "\n",
    "\n",
    "# x = CA_Test.loc[CA_Test['date'] == '3014-05-01']\n",
    "\n",
    "# print x\n",
    "\n",
    "# CA_Test.replace(to_replace='3014-05-01', value='2014-05-01', inplace=True)\n",
    "\n",
    "# CA_Test['date'] = pd.to_datetime(CA_Test['date'], format='%Y-%m-%d')\n",
    "\n",
    "# Date = CA_Test.set_index(['date'])\n",
    "\n",
    "# DateSpend = pd.DataFrame(Date['amount'].groupby(Date['date']).sum())\n",
    "\n",
    "# Date.groupby(Date.index.year).sum().head(10)\n",
    "\n",
    "# DateSpend.convert_objects(convert_numeric='force')\n",
    "\n",
    "# pd.Series(DateSpend.amount).convert_objects(convert_numeric=True)\n",
    "\n",
    "# DateSpend.plot(x='date', y='amount')\n",
    "\n",
    "\n",
    "# plt.plot(DateSpend, 'ko--')\n",
    "\n",
    "\n",
    "# To reindex as timeseries\n",
    "\n",
    "# y = pd.DataFrame(x, columns=table_dict['forms_expenditures_locations'])\n",
    "# # new_index=y.date\n",
    "# # z = y.set_index(new_index)\n",
    "# # z"
   ]
  },
  {
   "cell_type": "code",
   "execution_count": 82,
   "metadata": {
    "collapsed": false
   },
   "outputs": [
    {
     "data": {
      "text/plain": [
       "count           6165\n",
       "unique           661\n",
       "top       2012-05-17\n",
       "freq             157\n",
       "Name: date, dtype: object"
      ]
     },
     "execution_count": 82,
     "metadata": {},
     "output_type": "execute_result"
    }
   ],
   "source": [
    "# len(CA_Test)\n",
    "# CA_Test.vendor.describe()\n",
    "# CA_Test.amount.describe()\n",
    "CA_Test.date.describe()\n",
    "\n",
    "# CA_Test.office.describe()\n",
    "# type(CA_Test.date)\n",
    "\n",
    "# CA_Test.name.describe()\n",
    "# Now time for summary statistics and some plotting\n",
    "# Can we construct a graph where vendors and committees are nodes and expenditures are edges. "
   ]
  },
  {
   "cell_type": "code",
   "execution_count": 27,
   "metadata": {
    "collapsed": false
   },
   "outputs": [
    {
     "data": {
      "image/png": "[encoded data removed]",
      "text/plain": [
       "<matplotlib.figure.Figure at 0x10ac886d0>"
      ]
     },
     "metadata": {},
     "output_type": "display_data"
    }
   ],
   "source": [
    "import networkx as nx\n",
    "import matplotlib.pyplot as plt\n",
    "%matplotlib inline\n",
    "\n",
    "GraphSet = CA_Test[['vendor', 'name', 'amount']]\n",
    "CAgraph = nx.from_pandas_dataframe(GraphSet, 'name', 'vendor', edge_attr='amount')#, create_using=nx.MultiGraph())\n",
    "\n",
    "MultiGraph = nx.MultiGraph(CAgraph)\n",
    "pos=nx.spring_layout(CAgraph)\n",
    "\n",
    "# nx.draw_networkx_nodes(CAgraph,pos,\n",
    "#                        nodelist=[CAgraph.graph['name']],\n",
    "#                        node_color='r',\n",
    "#                        node_size=500,\n",
    "#                    alpha=0.8)\n",
    "# nx.draw_networkx_nodes(G,pos,\n",
    "#                        nodelist=[CAgraph.graph['vendor']],\n",
    "#                        node_color='b',\n",
    "#                        node_size=500,\n",
    "#                    alpha=0.8)\n",
    "\n",
    "\n",
    "nx.draw_networkx(MultiGraph, pos, with_labels=False)\n",
    "\n",
    "#Some nodes are more central than others, and all are highly interconnected, as many PACS have vendors in common and reuse local vendors across multiple eleciton cycles."
   ]
  },
  {
   "cell_type": "code",
   "execution_count": 81,
   "metadata": {
    "collapsed": false
   },
   "outputs": [],
   "source": [
    "nx.write_gexf(MultiGraph, 'CA_PACMulti.gexf')\n",
    " "
   ]
  },
  {
   "cell_type": "code",
   "execution_count": 70,
   "metadata": {
    "collapsed": false
   },
   "outputs": [
    {
     "data": {
      "text/plain": [
       "1480"
      ]
     },
     "execution_count": 70,
     "metadata": {},
     "output_type": "execute_result"
    }
   ],
   "source": [
    "len(CAgraph.edges())"
   ]
  },
  {
   "cell_type": "code",
   "execution_count": 7,
   "metadata": {
    "collapsed": false
   },
   "outputs": [],
   "source": [
    "# SQL Alchemy would possibly work better to simplify queries and to build interactive apps on top of; however, the underlying SQL dataset simply won't play nicely with the ORM\n",
    "\n",
    "from sqlalchemy.ext.declarative import declarative_base\n",
    "from sqlalchemy import Column, Integer, String, Date, Boolean, Float, MetaData, ForeignKey\n",
    "from sqlalchemy.orm import relationship, backref\n",
    "\n",
    "# Apply an Object Relation Mapper (ORM) to simplify querying and reporting from the database\n",
    "Base = declarative_base()\n",
    "\n",
    "# Political Action Committees (PACs) receive many donations as distinct groups and also disburse many expenditures to different vendors\n",
    "# Thus, PAC_Group, locations and expenditures have many-to-many relationships. \n",
    "# If incoming donations are included in future scrapes, they should be an additional class/node\n",
    "\n",
    "class PAC_Group(Base):\n",
    "    __tablename__ = 'committees'\n",
    "#     __table_args__ = {'autoload' :True}\n",
    "    fecId = Column(String, primary_key=True) # Does this need to be a table of unique values?\n",
    "    name = Column(String)\n",
    "    lastActivity = Column(Date)\n",
    "    expenditures = relationship(\"Expenditure\", secondary='Pac_Expenditures')\n",
    "\n",
    "class Expenditure(Base):\n",
    "    __tablename__ = 'forms_expenditures'\n",
    "#     __table_args__ = {'autoload' :True}\n",
    "    formId = Column(Integer, primary_key=True)\n",
    "    fecId = Column(String, ForeignKey('committees.fecId'))\n",
    "    PAC = relationship(\"PAC_Group\", secondary='Pac_Expenditures')\n",
    "    formType = Column(String)\n",
    "    amount = Column(Float)\n",
    "    date = Column(Date)\n",
    "    office = Column(String)\n",
    "    state = Column(String)\n",
    "    district = Column(String)\n",
    "    vendor = Column(String)\n",
    "    amended = Column(Boolean)\n",
    "\n",
    "# This throws an error - perhaps b/c fecId needs to be only unique values in committees? \n",
    "# class PAC_Expenditure(Base):\n",
    "#     __tablename__ = 'Pac_Expenditures'\n",
    "#     PAC_id = Column(Integer, ForeignKey('committees.fecId'), primary_key=True)\n",
    "#     Expense_id = Column(Integer, ForeignKey('forms_expenditures.fecId'), primary_key=True)\n",
    "\n",
    "# Create Candidate class and link use District as the primary key?\n",
    "        \n",
    "class Location(Base):\n",
    "    __tablename__='forms_expenditures_locations'\n",
    "#     __table_args__ = {'autoload' :True}\n",
    "    formId = Column(Integer, primary_key=True)\n",
    "    addressType = Column(String)\n",
    "    state = Column(String)\n",
    "    city = Column(String)\n",
    "    street1 = Column(String)\n",
    "    street2 = Column(String)\n",
    "    zipCode = Column(Integer)\n",
    "    latLng = Column(Integer)\n",
    "    hash = Column(String) \n",
    "\n",
    "class Zipcode(Base):\n",
    "    __tablename__='zipcodes'\n",
    "#     __table_args__ = {'autoload' :True}\n",
    "    zip = Column(Integer, primary_key=True)\n",
    "    city = Column(String)\n",
    "    state = Column(String)\n",
    "    latitude = Column(Integer)\n",
    "    longitude = Column(Integer)\n",
    "\n",
    "# Add forms and inclue 'expenditurePurposeDescrip'\n",
    "# class Forms(Base):\n",
    "#     __tablename__='forms'"
   ]
  },
  {
   "cell_type": "code",
   "execution_count": 10,
   "metadata": {
    "collapsed": false
   },
   "outputs": [
    {
     "name": "stdout",
     "output_type": "stream",
     "text": [
      "(u'Missouri Right to Life Federal Political Action Committee',)\n",
      "(u'FRIENDS OF JON RUSSELL COMMITTEE',)\n",
      "9974\n",
      "744036\n"
     ]
    }
   ],
   "source": [
    "import time\n",
    "start_time = time.time()\n",
    "\n",
    "from sqlalchemy.orm import sessionmaker\n",
    "from sqlalchemy.sql import select\n",
    "from sqlalchemy import distinct, func, create_engine\n",
    "\n",
    "engine = create_engine('')\n",
    "\n",
    "session = sessionmaker()\n",
    "session.configure(bind=engine)\n",
    "Base.metadata.create_all(engine)\n",
    "\n",
    "session = Session()\n",
    "\n",
    "for u in session.query(PAC_Group.name).order_by(PAC_Group.lastActivity)[1:3]:\n",
    "    print(u)\n",
    "    \n",
    "# count distinct \"name\" values\n",
    "numPAC = session.query(func.count(distinct(PAC_Group.name)))\n",
    "numVen = session.query(func.count(distinct(Expenditure.vendor)))\n",
    "print numPAC.scalar()\n",
    "print numVen.scalar()\n",
    "\n",
    "print(\"--- %s seconds ---\" % (time.time() - start_time))"
   ]
  },
  {
   "cell_type": "code",
   "execution_count": null,
   "metadata": {
    "collapsed": true
   },
   "outputs": [],
   "source": [
    "# How to tell how large samples will be on local disk, server-side? \n",
    "# Recreate Justin's tables as summary stats\n",
    "# Subset States and national Senate, Presidential races, etc. for extra summary stats and training datasets. \n",
    "# Labels to predict: State/Location, Candidate/Issue, Amount, kind of service vendors purchase\n",
    "# How to re-run and improve the model as new data is added?"
   ]
  }
 ],
 "metadata": {
  "kernelspec": {
   "display_name": "Python 2",
   "language": "python",
   "name": "python2"
  },
  "language_info": {
   "codemirror_mode": {
    "name": "ipython",
    "version": 2
   },
   "file_extension": ".py",
   "mimetype": "text/x-python",
   "name": "python",
   "nbconvert_exporter": "python",
   "pygments_lexer": "ipython2",
   "version": "2.7.11"
  }
 },
 "nbformat": 4,
 "nbformat_minor": 0
}
